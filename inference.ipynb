{
 "cells": [
  {
   "cell_type": "code",
   "execution_count": null,
   "id": "42acf127",
   "metadata": {},
   "outputs": [],
   "source": [
    "import tensorflow as tf\n",
    "import pandas as pd\n",
    "import os"
   ]
  },
  {
   "cell_type": "code",
   "execution_count": null,
   "id": "c005bd40",
   "metadata": {},
   "outputs": [],
   "source": [
    "current_path = os.getcwd()\n",
    "model_path = current_path + \"\\chemical_risk_predictor\"\n",
    "model = tf.keras.models.load_model(model_path)"
   ]
  },
  {
   "cell_type": "markdown",
   "id": "8aee1293",
   "metadata": {},
   "source": [
    "Il dizionario Python \"sample\" riporta un esempio di input fornito alla rete neurale.\n",
    "Per una corretta predizione si raccomanda di scegliere i token da inserire nel dizionario Python \"sample\" dalle seguenti liste:\n",
    "\n",
    "food_groups_names = [\n",
    "    'Cereali e prodotti derivati',\n",
    "    'Frutta e prodotti a base di frutta',\n",
    "    'Zucchero e prodotti confezionati', 'Erbe, spezie e condimenti',\n",
    "    'Grassi animali e vegetali', 'Latte e derivati',\n",
    "    'Pesce e prodotti di mare', 'Frutta e centrifughe di verdura',\n",
    "    'Carne e prodotti a base di carne', 'Uova e prodotti derivati',\n",
    "    'Funghi, verdure e prodotti a base di verdure', 'Legumi',\n",
    "    'Radici e tuberi', 'Frutta a guscio e semi', 'Bevande analcoliche',\n",
    "    'Bevande alcoliche', 'Acqua potabile', 'Dolci e snacks'\n",
    "]\n",
    "\n",
    "countries_names = [\n",
    "    'Germania', \n",
    "    'Belgio', \n",
    "    'Slovacchia', \n",
    "    'Francia', \n",
    "    'Estonia',\n",
    "    'Repubblica Ceca', \n",
    "    'Svezia', \n",
    "    'Danimarca', \n",
    "    'Romania', \n",
    "    'Austria',\n",
    "    'Regno Unito', \n",
    "    'Irlanda', \n",
    "    'Slovenia', \n",
    "    'Grecia', \n",
    "    'Norvegia',\n",
    "    'Polonia', \n",
    "    'Ciprio', \n",
    "    'Italia', \n",
    "    'Lettonia', \n",
    "    'Finlandia', \n",
    "    'Spagna',\n",
    "    'Lituania', \n",
    "    'Ungheria', \n",
    "    'Olanda', \n",
    "    'Lussemburgo', \n",
    "    'Islanda',\n",
    "    'Bulgaria', \n",
    "    'Malta', \n",
    "    'Portogallo', \n",
    "    'Europa', \n",
    "    'Turchia'\n",
    "]"
   ]
  },
  {
   "cell_type": "code",
   "execution_count": null,
   "id": "a6f0d112",
   "metadata": {},
   "outputs": [],
   "source": [
    "sample = {\n",
    "    \n",
    "    \"CountryName\" : [\n",
    "        \"Italia\", \n",
    "        \"Francia\", \n",
    "        \"Spagna\", \n",
    "        \"Europa\",\n",
    "        \"Olanda\",\n",
    "        \"Francia\"\n",
    "    ],\n",
    "    \n",
    "    \"FoodGroupName\" : [\n",
    "        \"Cereali e prodotti derivati\", \n",
    "        \"Carne e prodotti a base di carne\",\n",
    "        \"Frutta a guscio e semi\",\n",
    "        \"Erbe, spezie e condimenti\",\n",
    "        \"Bevande alcoliche\",\n",
    "        \"Cereali e prodotti derivati\"\n",
    "    ]\n",
    "}"
   ]
  },
  {
   "cell_type": "code",
   "execution_count": null,
   "id": "bd2e3ccf",
   "metadata": {},
   "outputs": [],
   "source": [
    "df = pd.DataFrame.from_dict(\n",
    "    data = sample\n",
    ")\n",
    "\n",
    "inputs = df.values\n",
    "predictions = model.predict(inputs)"
   ]
  },
  {
   "cell_type": "code",
   "execution_count": null,
   "id": "6a2262c0",
   "metadata": {},
   "outputs": [],
   "source": [
    "i = 0\n",
    "for prediction in predictions:\n",
    "    print(\"---------------------------------------------------------------------------\")\n",
    "    print(\"Campione di riferimento:\", inputs[i])\n",
    "    print(\"Probabilità relativa presenza di diossine:\", round(prediction[0]*100, 2), \"%\")\n",
    "    print(\"Probabilità relativa presenza di metalli pesanti:\", round(prediction[1]*100, 2), \"%\")\n",
    "    print(\"Probabilità relativa presenza di micotossine:\", round(prediction[2]*100, 2), \"%\")\n",
    "    i = i+1"
   ]
  }
 ],
 "metadata": {
  "kernelspec": {
   "display_name": "Python 3 (ipykernel)",
   "language": "python",
   "name": "python3"
  },
  "language_info": {
   "codemirror_mode": {
    "name": "ipython",
    "version": 3
   },
   "file_extension": ".py",
   "mimetype": "text/x-python",
   "name": "python",
   "nbconvert_exporter": "python",
   "pygments_lexer": "ipython3",
   "version": "3.10.13"
  }
 },
 "nbformat": 4,
 "nbformat_minor": 5
}
